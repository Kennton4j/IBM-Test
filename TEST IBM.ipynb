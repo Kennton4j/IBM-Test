{
 "cells": [
  {
   "cell_type": "markdown",
   "id": "f691a8ed-40cb-4ca7-af58-5da0718bbf23",
   "metadata": {},
   "source": [
    "# My Jupyter Notebook on IBM Watson Studio"
   ]
  },
  {
   "cell_type": "markdown",
   "id": "b196f9bc-f72a-4165-8780-926b53feecf7",
   "metadata": {},
   "source": [
    "**Amirouche Walid**\n",
    "Feature Data Scientist"
   ]
  },
  {
   "cell_type": "markdown",
   "id": "9b59d534-763d-4f44-b923-f04e59439ea2",
   "metadata": {},
   "source": [
    "_I am interested in data science because i like numbers and data viz_"
   ]
  },
  {
   "cell_type": "markdown",
   "id": "5dccf0bc-a5e8-4073-91c8-ff0b10905077",
   "metadata": {},
   "source": [
    "### I'm typing Happy New Year!"
   ]
  },
  {
   "cell_type": "code",
   "execution_count": 1,
   "id": "06ca951b-1120-4892-9fc1-4cf105894ec8",
   "metadata": {},
   "outputs": [
    {
     "name": "stdout",
     "output_type": "stream",
     "text": [
      "Happy New Year!\n"
     ]
    }
   ],
   "source": [
    "print('Happy New Year!')"
   ]
  },
  {
   "cell_type": "markdown",
   "id": "71307fd3-977f-47bb-9277-293c0255453a",
   "metadata": {},
   "source": [
    "> To do list :\n",
    "1. Eating.\n",
    "2. Exercising.\n",
    "3. Sleeping"
   ]
  },
  {
   "cell_type": "code",
   "execution_count": null,
   "id": "5b34fb8f-b4df-4ae6-9f52-363c315ec024",
   "metadata": {},
   "outputs": [],
   "source": []
  }
 ],
 "metadata": {
  "kernelspec": {
   "display_name": "Python",
   "language": "python",
   "name": "conda-env-python-py"
  },
  "language_info": {
   "codemirror_mode": {
    "name": "ipython",
    "version": 3
   },
   "file_extension": ".py",
   "mimetype": "text/x-python",
   "name": "python",
   "nbconvert_exporter": "python",
   "pygments_lexer": "ipython3",
   "version": "3.7.12"
  }
 },
 "nbformat": 4,
 "nbformat_minor": 5
}
